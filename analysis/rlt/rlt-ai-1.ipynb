{
 "cells": [
  {
   "cell_type": "markdown",
   "id": "cad81d2a-3389-4bea-acc0-3d44a1cac0a0",
   "metadata": {},
   "source": [
    "# Robust Lookup Table: Coordinates prediction\n",
    "\n",
    "The goal of this notebook is to predict the coordinates of the backends in the output lookup table."
   ]
  },
  {
   "cell_type": "markdown",
   "id": "84171dca-8768-4b54-a145-9b0f615c5f2c",
   "metadata": {},
   "source": [
    "## TODO\n",
    "\n",
    "- [ ] Add noise to the input\n",
    "- [ ] Add dropout\n",
    "- [ ] Add regularization"
   ]
  },
  {
   "cell_type": "code",
   "execution_count": 1,
   "id": "a0ea945d-e90c-481d-9859-e03086d14131",
   "metadata": {},
   "outputs": [
    {
     "name": "stdout",
     "output_type": "stream",
     "text": [
      "Using cpu device\n"
     ]
    }
   ],
   "source": [
    "import os\n",
    "import math\n",
    "import datetime\n",
    "import time\n",
    "import uuid\n",
    "import random\n",
    "import hashlib\n",
    "\n",
    "import torch\n",
    "from torch import nn\n",
    "\n",
    "import numpy as np\n",
    "from matplotlib import pyplot as plt\n",
    "\n",
    "device = torch.accelerator.current_accelerator().type if torch.accelerator.is_available() else \"cpu\"\n",
    "print(f\"Using {device} device\")"
   ]
  },
  {
   "cell_type": "code",
   "execution_count": 2,
   "id": "b6a2d758-df88-46b8-b893-e7649ebc6970",
   "metadata": {},
   "outputs": [],
   "source": [
    "# Hyper parameters\n",
    "learning_rate = 1e-3\n",
    "epochs = 200\n",
    "batch_size = 32"
   ]
  },
  {
   "cell_type": "code",
   "execution_count": 3,
   "id": "24b18255-28b8-490c-846b-b5b4e7bec879",
   "metadata": {},
   "outputs": [],
   "source": [
    "# Experiment parameters\n",
    "# -- n_max: the maximum number of backends.\n",
    "n_max = 5\n",
    "# -- m: the size of the lookup table.\n",
    "m = 15\n",
    "# -- o: the number of axis for the coordinates.\n",
    "o = 2\n",
    "# scenario variables:\n",
    "nBeforeBounds = (3, n_max)\n",
    "nAfterBounds = (1, n_max)\n",
    "variance = (1.0, 10)"
   ]
  },
  {
   "cell_type": "code",
   "execution_count": 4,
   "id": "4f48eb8d-91e5-4a48-af64-62d95a0cec3b",
   "metadata": {},
   "outputs": [
    {
     "data": {
      "text/plain": [
       "{'n_max': 5,\n",
       " 'm': 15,\n",
       " 'o': 2,\n",
       " 'nBeforeBounds': (3, 5),\n",
       " 'nAfterBounds': (1, 5),\n",
       " 'variance': (1.0, 10)}"
      ]
     },
     "execution_count": 4,
     "metadata": {},
     "output_type": "execute_result"
    }
   ],
   "source": [
    "# Config\n",
    "# - nBeforeBounds(x, y): nBefore ∈ [x, y].\n",
    "# - nAfterBounds(x, y): nAfter ∈ [x, y].\n",
    "# - variance(x, y): x < min(nBefore,nAfter)/max(nBefore,nAfter); y < max(nBefore,nAfter) - min(nBefore,nAfter)\n",
    "# - m: the fixed size of the lookup table.\n",
    "# - o: the number of axis for coordinates.\n",
    "class Config:\n",
    "    n_max: int\n",
    "    m: int\n",
    "    o: int\n",
    "    nBeforeBounds: (int, int)\n",
    "    nAfterBounds: (int, int)\n",
    "    variance: (float, int)\n",
    "\n",
    "    def __init__(\n",
    "        self,\n",
    "        n_max: int,\n",
    "        m: int,\n",
    "        o: int,\n",
    "        nBeforeBounds: (int, int),\n",
    "        nAfterBounds: (int, int),\n",
    "        variance: (float, int),\n",
    "        # sizeBounds: (int, int),\n",
    "    ):\n",
    "        if nBeforeBounds[1] > m or nAfterBounds[1] > m:\n",
    "            raise Exception(\"nBeforeBounds and nAfterBounds cannot exceed size\")\n",
    "\n",
    "        self.n_max = n_max\n",
    "        self.m = m\n",
    "        self.o = o\n",
    "        self.nBeforeBounds = nBeforeBounds\n",
    "        self.nAfterBounds = nAfterBounds\n",
    "        self.variance = variance\n",
    "\n",
    "Config(n_max, m, o, nBeforeBounds, nAfterBounds, variance).__dict__"
   ]
  },
  {
   "cell_type": "code",
   "execution_count": 5,
   "id": "27ca62af-e01d-41bc-9f0a-3a2356b0089c",
   "metadata": {},
   "outputs": [
    {
     "data": {
      "text/plain": [
       "[11, 4]"
      ]
     },
     "execution_count": 5,
     "metadata": {},
     "output_type": "execute_result"
    }
   ],
   "source": [
    "# m: the size of the lookup table.\n",
    "# o: the number of axis for the coordinates.\n",
    "# the function returns the backend coordinates of size (o,)\n",
    "def NewBackendCoordinates(m: int, o: int):\n",
    "    id = uuid.uuid4()\n",
    "    _h = hashlib.sha256()\n",
    "    _h.update(id.bytes_le)\n",
    "    hash_bytes = _h.digest()\n",
    "\n",
    "    coord = []\n",
    "    hash_length = 32\n",
    "    slice = int(hash_length/o)\n",
    "\n",
    "    for i in range(o):\n",
    "        start = i*slice\n",
    "        end = (i+1)*slice\n",
    "        if start >= hash_length:\n",
    "            continue\n",
    "        if end > hash_length:\n",
    "            end = hash_length\n",
    "        hmod = int.from_bytes(hash_bytes[start:end], \"little\") % m\n",
    "        coord.append(hmod)\n",
    "\n",
    "    if len(coord) < o:\n",
    "        raise Exception(f\"Cannot create new backend tensor! please decrease `o`: got {o}\")\n",
    "\n",
    "    return coord\n",
    "\n",
    "NewBackendCoordinates(m, o)"
   ]
  },
  {
   "cell_type": "code",
   "execution_count": 6,
   "id": "7f5a02ae-1e12-497c-84aa-0f31ed32711e",
   "metadata": {},
   "outputs": [
    {
     "name": "stdout",
     "output_type": "stream",
     "text": [
      "{'cfg': <__main__.Config object at 0x7886a80eff20>, 'nBefore': 5, 'nAfter': 1}\n",
      "before:\n",
      " [array([ 1, 14]), array([2, 0]), array([ 5, 12]), array([1, 1]), array([ 1, 14])]\n",
      "after:\n",
      " [array([1, 1]), [0, 0], [0, 0], [0, 0], [0, 0]]\n"
     ]
    }
   ],
   "source": [
    "class Scenario:\n",
    "    nBefore: int\n",
    "    nAfter: int\n",
    "    m: int\n",
    "    o: int\n",
    "\n",
    "    def __init__(\n",
    "        self,\n",
    "        cfg: Config,\n",
    "    ):\n",
    "        self.cfg = cfg\n",
    "        self.nBefore = random.randint(cfg.nBeforeBounds[0], cfg.nBeforeBounds[1])\n",
    "        self.nAfter = random.randint(cfg.nAfterBounds[0], cfg.nAfterBounds[1])\n",
    "\n",
    "    def GenerateBackends(self):\n",
    "        l_min = []\n",
    "        l_max = []\n",
    "        _min = min([self.nBefore, self.nAfter])\n",
    "        _max = max([self.nBefore, self.nAfter])\n",
    "        # create the l_max backend array.\n",
    "        l_max = np.array([ NewBackendCoordinates(self.cfg.m, self.cfg.o) for _ in range(_max) ])\n",
    "        # create l_min array by randomly choosing _min elements of l_max.\n",
    "        l_min = np.random.permutation(l_max)[0:_min]\n",
    "        # pad\n",
    "        l_max = [l_max[i] if i < _max else [0, 0] for i in range(self.cfg.n_max) ]\n",
    "        l_min = [l_min[i] if i < _min else [0, 0] for i in range(self.cfg.n_max) ]\n",
    "        # they used to be sorted but we don't need to anymore.\n",
    "        if self.nBefore < self.nAfter:\n",
    "            return (l_min, l_max)\n",
    "        return (l_max, l_min)\n",
    "\n",
    "def validate_scenario(cfg: Config, scenario: Scenario) -> bool:\n",
    "    var = cfg.variance[0]\n",
    "    delta = cfg.variance[1]\n",
    "\n",
    "    _min = min([scenario.nBefore, scenario.nAfter])\n",
    "    _max = max([scenario.nBefore, scenario.nAfter])\n",
    "    _var = _min/_max\n",
    "    _delta = _max - _min\n",
    "    _sz = scenario.cfg.m\n",
    "\n",
    "    return _var <= var and _delta <= delta and _max <= _sz and _min != _max\n",
    "\n",
    "# creates a new scenario generator.\n",
    "def NewScenarioGenerator(cfg):\n",
    "    while True:\n",
    "        scenario = Scenario(cfg)\n",
    "        if validate_scenario(cfg, scenario):\n",
    "            yield scenario\n",
    "\n",
    "cfg = Config(n_max, m, o, nBeforeBounds, nAfterBounds, variance)\n",
    "scgen = next(NewScenarioGenerator(cfg))\n",
    "print(scgen.__dict__)\n",
    "bef, aft = scgen.GenerateBackends()\n",
    "print(\"before:\\n\", bef)\n",
    "print(\"after:\\n\", aft)"
   ]
  },
  {
   "cell_type": "code",
   "execution_count": 13,
   "id": "9e94558f-3dae-4a76-8fd5-58feefd93f50",
   "metadata": {},
   "outputs": [
    {
     "name": "stdout",
     "output_type": "stream",
     "text": [
      "tensor([13.,  6.])\n",
      "tensor size must be: [32, 5, 2]\n"
     ]
    },
    {
     "data": {
      "text/plain": [
       "(torch.Size([32, 5, 2]), torch.Size([32, 5, 2]))"
      ]
     },
     "execution_count": 13,
     "metadata": {},
     "output_type": "execute_result"
    }
   ],
   "source": [
    "# NewBatchGenerator yields a tuple of 2 batch of size batch_size.\n",
    "def NewBatchGenerator(batch_size: int, scenario_generator):\n",
    "    while True:\n",
    "        before = []\n",
    "        after = []\n",
    "        for _ in range(batch_size):\n",
    "            b, a = next(scenario_generator).GenerateBackends()\n",
    "            before.append(b)\n",
    "            after.append(a)\n",
    "        yield (\n",
    "            torch.tensor(np.array(before), dtype=torch.float32, requires_grad=False),\n",
    "            torch.tensor(np.array(after), dtype=torch.float32, requires_grad=False),\n",
    "        )\n",
    "\n",
    "cfg = Config(n_max, m, o, nBeforeBounds, nAfterBounds, variance)\n",
    "scenario_generator = NewScenarioGenerator(cfg)\n",
    "bef, aft = next(NewBatchGenerator(batch_size, scenario_generator))\n",
    "print(bef[0][0])\n",
    "print(f\"tensor size must be: [{batch_size}, {cfg.n_max}, {cfg.o}]\")\n",
    "bef.size(), aft.size()"
   ]
  },
  {
   "cell_type": "code",
   "execution_count": 19,
   "id": "13fc2175-6fe3-4be4-96dd-01af08383b99",
   "metadata": {},
   "outputs": [
    {
     "data": {
      "text/plain": [
       "torch.Size([32, 15, 2])"
      ]
     },
     "execution_count": 19,
     "metadata": {},
     "output_type": "execute_result"
    }
   ],
   "source": [
    "class NN(nn.Module):\n",
    "    n_max: int\n",
    "    m: int\n",
    "    o: int\n",
    "\n",
    "    flatten: nn.Flatten\n",
    "    seq: nn.Sequential\n",
    "\n",
    "    def __init__(\n",
    "        self,\n",
    "        n_max: int,\n",
    "        m: int,\n",
    "        o: int,\n",
    "        hl_size=512, # hidden layer size\n",
    "    ):\n",
    "        super().__init__()\n",
    "        self.n_max = n_max\n",
    "        self.m = m\n",
    "        self.o = o\n",
    "\n",
    "        in_size = n_max*o\n",
    "        out_size = m*o\n",
    "        \n",
    "        self.flatten = nn.Flatten(start_dim=1)\n",
    "        self.seq = nn.Sequential(\n",
    "            nn.Linear(in_size, hl_size),\n",
    "            nn.ReLU(),\n",
    "            nn.Linear(hl_size, hl_size),\n",
    "            nn.ReLU(),\n",
    "            nn.Linear(hl_size, out_size),\n",
    "        )\n",
    "\n",
    "    # takes an input of size:    [batch_size, n_max, o]\n",
    "    # returns an output of size: [batch_size, m, o]\n",
    "    def forward(self, x):\n",
    "        x = self.flatten(x)\n",
    "        x = nn.functional.normalize(x, dim=1) # normalize in.\n",
    "        x = self.seq(x)\n",
    "        x = nn.functional.normalize(x, dim=1) # normalize out.\n",
    "        return x.view(-1, self.m, self.o) # make it 2-dimensional array.\n",
    "\n",
    "\n",
    "cfg = Config(n_max, m, o, nBeforeBounds, nAfterBounds, variance)\n",
    "scenario_generator = NewScenarioGenerator(cfg)\n",
    "bef, _ = next(NewBatchGenerator(batch_size, scenario_generator))\n",
    "model = NN(cfg.n_max, cfg.m, cfg.o, hl_size=32).to(device)\n",
    "model(bef).size()"
   ]
  },
  {
   "cell_type": "markdown",
   "id": "5e89211e-febe-44bd-acad-0670c2efe063",
   "metadata": {},
   "source": [
    "## Loss functions\n",
    "\n",
    "- Stability: measures how well the model predicts a lookup table that matches as much as possible entries from the \"before\" state.\n",
    "- Accuracy: measures how precisely the model predicts coordinates. The precision is measured by comparing input and output coordinates.\n",
    "- Distribution: measures how evenly the model distributes coordinates into the lookup table."
   ]
  },
  {
   "cell_type": "code",
   "execution_count": null,
   "id": "31218a08-0e53-4e33-be47-0cd2b4f791f5",
   "metadata": {},
   "outputs": [],
   "source": []
  }
 ],
 "metadata": {
  "kernelspec": {
   "display_name": "Python 3 (ipykernel)",
   "language": "python",
   "name": "python3"
  },
  "language_info": {
   "codemirror_mode": {
    "name": "ipython",
    "version": 3
   },
   "file_extension": ".py",
   "mimetype": "text/x-python",
   "name": "python",
   "nbconvert_exporter": "python",
   "pygments_lexer": "ipython3",
   "version": "3.12.9"
  }
 },
 "nbformat": 4,
 "nbformat_minor": 5
}
