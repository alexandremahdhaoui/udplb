{
 "cells": [
  {
   "cell_type": "markdown",
   "id": "cad81d2a-3389-4bea-acc0-3d44a1cac0a0",
   "metadata": {},
   "source": [
    "# Robust Lookup Table: Coordinates prediction\n",
    "\n",
    "The goal of this notebook is to predict the coordinates of the backends in the output lookup table."
   ]
  },
  {
   "cell_type": "markdown",
   "id": "84171dca-8768-4b54-a145-9b0f615c5f2c",
   "metadata": {},
   "source": [
    "## TODO\n",
    "\n",
    "- [ ] Add noise to the input\n",
    "- [ ] Add dropout\n",
    "- [ ] Add regularization"
   ]
  },
  {
   "cell_type": "code",
   "execution_count": 1,
   "id": "a0ea945d-e90c-481d-9859-e03086d14131",
   "metadata": {},
   "outputs": [
    {
     "name": "stdout",
     "output_type": "stream",
     "text": [
      "Using cpu device\n"
     ]
    }
   ],
   "source": [
    "import os\n",
    "import math\n",
    "import datetime\n",
    "import time\n",
    "import uuid\n",
    "import random\n",
    "import hashlib\n",
    "\n",
    "import torch\n",
    "from torch import nn\n",
    "\n",
    "import numpy as np\n",
    "from matplotlib import pyplot as plt\n",
    "\n",
    "device = torch.accelerator.current_accelerator().type if torch.accelerator.is_available() else \"cpu\"\n",
    "print(f\"Using {device} device\")"
   ]
  },
  {
   "cell_type": "code",
   "execution_count": 177,
   "id": "24b18255-28b8-490c-846b-b5b4e7bec879",
   "metadata": {},
   "outputs": [],
   "source": [
    "# Hyper parameters\n",
    "learning_rate = 1e-3\n",
    "epochs = 200\n",
    "batch_size = 32\n",
    "\n",
    "# Experiment parameters\n",
    "# -- n_max: the maximum number of backends.\n",
    "n_max = 5\n",
    "# -- m: the size of the lookup table.\n",
    "m = 15\n",
    "# -- o: the number of axis for the coordinates.\n",
    "o = 2\n",
    "# scenario variables:\n",
    "nBeforeBounds = (3, n_max)\n",
    "nAfterBounds = (1, n_max)\n",
    "variance = (1.0, 10)"
   ]
  },
  {
   "cell_type": "code",
   "execution_count": 4,
   "id": "4f48eb8d-91e5-4a48-af64-62d95a0cec3b",
   "metadata": {},
   "outputs": [
    {
     "data": {
      "text/plain": [
       "{'n_max': 5,\n",
       " 'm': 15,\n",
       " 'o': 2,\n",
       " 'nBeforeBounds': (3, 5),\n",
       " 'nAfterBounds': (1, 5),\n",
       " 'variance': (1.0, 10)}"
      ]
     },
     "execution_count": 4,
     "metadata": {},
     "output_type": "execute_result"
    }
   ],
   "source": [
    "# Config\n",
    "# - nBeforeBounds(x, y): nBefore ∈ [x, y].\n",
    "# - nAfterBounds(x, y): nAfter ∈ [x, y].\n",
    "# - variance(x, y): x < min(nBefore,nAfter)/max(nBefore,nAfter); y < max(nBefore,nAfter) - min(nBefore,nAfter)\n",
    "# - m: the fixed size of the lookup table.\n",
    "# - o: the number of axis for coordinates.\n",
    "class Config:\n",
    "    n_max: int\n",
    "    m: int\n",
    "    o: int\n",
    "    nBeforeBounds: (int, int)\n",
    "    nAfterBounds: (int, int)\n",
    "    variance: (float, int)\n",
    "\n",
    "    def __init__(\n",
    "        self,\n",
    "        n_max: int,\n",
    "        m: int,\n",
    "        o: int,\n",
    "        nBeforeBounds: (int, int),\n",
    "        nAfterBounds: (int, int),\n",
    "        variance: (float, int),\n",
    "        # sizeBounds: (int, int),\n",
    "    ):\n",
    "        if nBeforeBounds[1] > m or nAfterBounds[1] > m:\n",
    "            raise Exception(\"nBeforeBounds and nAfterBounds cannot exceed size\")\n",
    "\n",
    "        self.n_max = n_max\n",
    "        self.m = m\n",
    "        self.o = o\n",
    "        self.nBeforeBounds = nBeforeBounds\n",
    "        self.nAfterBounds = nAfterBounds\n",
    "        self.variance = variance\n",
    "\n",
    "Config(n_max, m, o, nBeforeBounds, nAfterBounds, variance).__dict__"
   ]
  },
  {
   "cell_type": "code",
   "execution_count": 5,
   "id": "27ca62af-e01d-41bc-9f0a-3a2356b0089c",
   "metadata": {},
   "outputs": [
    {
     "data": {
      "text/plain": [
       "[11, 4]"
      ]
     },
     "execution_count": 5,
     "metadata": {},
     "output_type": "execute_result"
    }
   ],
   "source": [
    "# m: the size of the lookup table.\n",
    "# o: the number of axis for the coordinates.\n",
    "# the function returns the backend coordinates of size (o,)\n",
    "def NewBackendCoordinates(m: int, o: int):\n",
    "    id = uuid.uuid4()\n",
    "    _h = hashlib.sha256()\n",
    "    _h.update(id.bytes_le)\n",
    "    hash_bytes = _h.digest()\n",
    "\n",
    "    coord = []\n",
    "    hash_length = 32\n",
    "    slice = int(hash_length/o)\n",
    "\n",
    "    for i in range(o):\n",
    "        start = i*slice\n",
    "        end = (i+1)*slice\n",
    "        if start >= hash_length:\n",
    "            continue\n",
    "        if end > hash_length:\n",
    "            end = hash_length\n",
    "        hmod = int.from_bytes(hash_bytes[start:end], \"little\") % m\n",
    "        coord.append(hmod)\n",
    "\n",
    "    if len(coord) < o:\n",
    "        raise Exception(f\"Cannot create new backend tensor! please decrease `o`: got {o}\")\n",
    "\n",
    "    return coord\n",
    "\n",
    "NewBackendCoordinates(m, o)"
   ]
  },
  {
   "cell_type": "code",
   "execution_count": 83,
   "id": "7f5a02ae-1e12-497c-84aa-0f31ed32711e",
   "metadata": {},
   "outputs": [
    {
     "name": "stdout",
     "output_type": "stream",
     "text": [
      "{'cfg': <__main__.Config object at 0x7885dddfe630>, 'nBefore': 4, 'nAfter': 2}\n",
      "before:\n",
      " [array([14, 10]), array([10, 13]), array([1, 0]), array([11, 11]), [-1, -1]]\n",
      "after:\n",
      " [array([14, 10]), array([10, 13]), [-1, -1], [-1, -1], [-1, -1]]\n"
     ]
    }
   ],
   "source": [
    "class Scenario:\n",
    "    nBefore: int\n",
    "    nAfter: int\n",
    "    m: int\n",
    "    o: int\n",
    "\n",
    "    def __init__(\n",
    "        self,\n",
    "        cfg: Config,\n",
    "    ):\n",
    "        self.cfg = cfg\n",
    "        self.nBefore = random.randint(cfg.nBeforeBounds[0], cfg.nBeforeBounds[1])\n",
    "        self.nAfter = random.randint(cfg.nAfterBounds[0], cfg.nAfterBounds[1])\n",
    "\n",
    "    def GenerateBackends(self):\n",
    "        l_min = []\n",
    "        l_max = []\n",
    "        _min = min([self.nBefore, self.nAfter])\n",
    "        _max = max([self.nBefore, self.nAfter])\n",
    "        # create the l_max backend array.\n",
    "        l_max = np.array([ NewBackendCoordinates(self.cfg.m, self.cfg.o) for _ in range(_max) ])\n",
    "        # create l_min array by randomly choosing _min elements of l_max.\n",
    "        l_min = np.random.permutation(l_max)[0:_min]\n",
    "        # pad\n",
    "        l_max = [l_max[i] if i < _max else [-1, -1] for i in range(self.cfg.n_max) ]\n",
    "        l_min = [l_min[i] if i < _min else [-1, -1] for i in range(self.cfg.n_max) ]\n",
    "        # they used to be sorted but we don't need to anymore.\n",
    "        if self.nBefore < self.nAfter:\n",
    "            return (l_min, l_max)\n",
    "        return (l_max, l_min)\n",
    "\n",
    "def validate_scenario(cfg: Config, scenario: Scenario) -> bool:\n",
    "    var = cfg.variance[0]\n",
    "    delta = cfg.variance[1]\n",
    "\n",
    "    _min = min([scenario.nBefore, scenario.nAfter])\n",
    "    _max = max([scenario.nBefore, scenario.nAfter])\n",
    "    _var = _min/_max\n",
    "    _delta = _max - _min\n",
    "    _sz = scenario.cfg.m\n",
    "\n",
    "    return _var <= var and _delta <= delta and _max <= _sz and _min != _max\n",
    "\n",
    "# creates a new scenario generator.\n",
    "def NewScenarioGenerator(cfg):\n",
    "    while True:\n",
    "        scenario = Scenario(cfg)\n",
    "        if validate_scenario(cfg, scenario):\n",
    "            yield scenario\n",
    "\n",
    "cfg = Config(n_max, m, o, nBeforeBounds, nAfterBounds, variance)\n",
    "scgen = next(NewScenarioGenerator(cfg))\n",
    "print(scgen.__dict__)\n",
    "bef, aft = scgen.GenerateBackends()\n",
    "print(\"before:\\n\", bef)\n",
    "print(\"after:\\n\", aft)"
   ]
  },
  {
   "cell_type": "code",
   "execution_count": 231,
   "id": "9e94558f-3dae-4a76-8fd5-58feefd93f50",
   "metadata": {},
   "outputs": [
    {
     "name": "stdout",
     "output_type": "stream",
     "text": [
      "tensor([14.,  2.])\n",
      "tensor size must be: [32, 5, 2]\n"
     ]
    },
    {
     "data": {
      "text/plain": [
       "(torch.Size([32, 5, 2]), torch.Size([32, 5, 2]))"
      ]
     },
     "execution_count": 231,
     "metadata": {},
     "output_type": "execute_result"
    }
   ],
   "source": [
    "# NewBatchGenerator yields a tuple of 2 batch of size batch_size.\n",
    "def NewBatchGenerator(batch_size: int, scenario_generator):\n",
    "    while True:\n",
    "        before = []\n",
    "        after = []\n",
    "        for _ in range(batch_size):\n",
    "            b, a = next(scenario_generator).GenerateBackends()\n",
    "            before.append(b)\n",
    "            after.append(a)\n",
    "        yield (\n",
    "            torch.tensor(np.array(before), dtype=torch.float32, requires_grad=False),\n",
    "            torch.tensor(np.array(after), dtype=torch.float32, requires_grad=False),\n",
    "        )\n",
    "\n",
    "cfg = Config(n_max, m, o, nBeforeBounds, nAfterBounds, variance)\n",
    "scenario_generator = NewScenarioGenerator(cfg)\n",
    "bef, aft = next(NewBatchGenerator(batch_size, scenario_generator))\n",
    "print(bef[0][0])\n",
    "print(f\"tensor size must be: [{batch_size}, {cfg.n_max}, {cfg.o}]\")\n",
    "bef.size(), aft.size()"
   ]
  },
  {
   "cell_type": "markdown",
   "id": "5e89211e-febe-44bd-acad-0670c2efe063",
   "metadata": {},
   "source": [
    "## Loss functions\n",
    "\n",
    "- Stability: measures how well the model predicts a lookup table that matches as much as possible entries from the \"before\" state.\n",
    "- Accuracy: measures how precisely the model predicts coordinates. The precision is measured by calculating distance from input and output coordinates.\n",
    "- Distribution: measures how evenly the model distributes coordinates into the lookup table."
   ]
  },
  {
   "cell_type": "code",
   "execution_count": 90,
   "id": "8de2db2d-c8ac-440e-9635-0be8f793049a",
   "metadata": {},
   "outputs": [
    {
     "name": "stdout",
     "output_type": "stream",
     "text": [
      "size: [batch_size=2, m=4, o=2]:\n",
      " torch.Size([2, 4, 2])\n",
      "---\n",
      "pairwise distance:\n",
      " tensor([[7.0711e+00, 1.4142e-06, 1.4142e-06, 1.4142e-06],\n",
      "        [1.4142e-06, 1.4142e-06, 1.4142e-06, 1.4142e-06]],\n",
      "       grad_fn=<NormBackward1>) \n",
      "size:\n",
      " torch.Size([2, 4])\n",
      "---\n",
      "tanh:\n",
      " tensor([[1.0000e+00, 1.4142e-06, 1.4142e-06, 1.4142e-06],\n",
      "        [1.4142e-06, 1.4142e-06, 1.4142e-06, 1.4142e-06]],\n",
      "       grad_fn=<TanhBackward0>)\n",
      "---\n",
      "mean:\n",
      " tensor(0.1250, grad_fn=<MeanBackward0>)\n"
     ]
    }
   ],
   "source": [
    "# -- Stability loss experiment\n",
    "bef = torch.Tensor((\n",
    "    [\n",
    "        [5, 5], [0, 0], [1, 1], [1, 1],\n",
    "    ],[\n",
    "        [0, 0], [0, 0], [1, 1], [1, 1],\n",
    "    ]\n",
    "))\n",
    "bef.requires_grad_() # to check if the loss func stays differentiable.\n",
    "print(\"size: [batch_size=2, m=4, o=2]:\\n\", a.size())\n",
    "\n",
    "aft = torch.Tensor((\n",
    "    [\n",
    "        [0, 0], [0, 0], [1, 1], [1, 1],\n",
    "    ],[\n",
    "        [0, 0], [0, 0], [1, 1], [1, 1],\n",
    "    ]\n",
    "))\n",
    "\n",
    "d = nn.PairwiseDistance(p=2)(bef, aft)\n",
    "print(\"---\\npairwise distance:\\n\", d, \"\\nsize:\\n\", d.size())\n",
    "d = torch.nn.Tanh()(d)\n",
    "print(\"---\\ntanh:\\n\", d)\n",
    "print(\"---\\nmean:\\n\", torch.mean(d))"
   ]
  },
  {
   "cell_type": "code",
   "execution_count": 263,
   "id": "31218a08-0e53-4e33-be47-0cd2b4f791f5",
   "metadata": {},
   "outputs": [
    {
     "data": {
      "text/plain": [
       "tensor(0.3528, grad_fn=<MeanBackward0>)"
      ]
     },
     "execution_count": 263,
     "metadata": {},
     "output_type": "execute_result"
    }
   ],
   "source": [
    "# -- stabLoss = (mean_distance / (1-max_distance))\n",
    "class StabilityLoss(nn.Module):\n",
    "    def __init__(self):\n",
    "        super(StabilityLoss, self).__init__()\n",
    "\n",
    "    def forward(\n",
    "        self,\n",
    "        # -- will help compute the baseline.\n",
    "        before_in: torch.Tensor,\n",
    "        after_in: torch.tensor,\n",
    "        # -- will help compute the distance.\n",
    "        before_out: torch.Tensor,\n",
    "        after_out: torch.Tensor,\n",
    "    ):\n",
    "        n_max = before_in.size(dim=1)\n",
    "        nil_coord = torch.tensor([-1,-1])\n",
    "    \n",
    "        # get n for each row in batch. \n",
    "        # for each row we sum \"nil\" coordinates, i.e. all occurences of [-1,-1].\n",
    "        before_len = n_max - torch.where(before_in == nil_coord, 1, 0).sum(dim=1)[:, 0]\n",
    "        after_len = n_max - torch.where(after_in == nil_coord, 1, 0).sum(dim=1)[:, 0]\n",
    "    \n",
    "        # we calculate the maximum theoritical unchanged entry rate b/w before and after.\n",
    "        # -- max_th=max(before_len, after_len)/min(before_len, after_len)\n",
    "        _min = torch.where(before_len < after_len, before_len, after_len)\n",
    "        _max = torch.where(before_len > after_len, before_len, after_len)\n",
    "        max_th = _min/_max\n",
    "    \n",
    "        # -- compute distance b/w before_out & after_out.\n",
    "        d = torch.nn.PairwiseDistance(p=2)(before_out, after_out)\n",
    "        d_tanh = torch.nn.Tanh()(d)\n",
    "        \n",
    "        # stability: it accounts for maximum theoretical rate.\n",
    "        # stab = computed_d/(1-max_th)\n",
    "        stab = d_tanh / max_th.reshape((max_th.size(dim=0),1,1))\n",
    "    \n",
    "        # we return the mean over all elements of the batch.\n",
    "        return torch.mean(stab)\n",
    "    \n",
    "bef = torch.Tensor((\n",
    "    [\n",
    "        [0, 0], [0, 0], [1, 1], [1, 1],\n",
    "    ],[\n",
    "        [0, 0], [0, 0], [1, 1], [1, 1],\n",
    "    ]\n",
    "))\n",
    "bef.requires_grad_() # to check if the loss func stays differentiable.\n",
    "\n",
    "aft = torch.Tensor((\n",
    "    [\n",
    "        [0, 0], [0, 0], [1, 1], [1, 1],\n",
    "    ],[\n",
    "        [2, 2], [0, 0], [2, 2], [1, 1],\n",
    "    ]\n",
    "))\n",
    "\n",
    "before_in = torch.tensor([\n",
    "    [[0, 1], [2, 3], [0, 0]],\n",
    "    [[0, 1], [-1, -1], [0, 0]],\n",
    "]) \n",
    "\n",
    "after_in = torch.tensor([\n",
    "    [[0, 1], [2, 3], [0, 0]],\n",
    "    [[0, 1], [-1, -1], [-1,-1]],\n",
    "]) \n",
    "\n",
    "StabilityLoss()(before_in, after_in, bef, aft)"
   ]
  },
  {
   "cell_type": "markdown",
   "id": "5cd3d88a-f170-46c7-9b3f-8f04002b9009",
   "metadata": {},
   "source": [
    "## Model"
   ]
  },
  {
   "cell_type": "code",
   "execution_count": 256,
   "id": "13fc2175-6fe3-4be4-96dd-01af08383b99",
   "metadata": {},
   "outputs": [
    {
     "data": {
      "text/plain": [
       "torch.Size([32, 15, 2])"
      ]
     },
     "execution_count": 256,
     "metadata": {},
     "output_type": "execute_result"
    }
   ],
   "source": [
    "class NN(nn.Module):\n",
    "    n_max: int\n",
    "    m: int\n",
    "    o: int\n",
    "\n",
    "    flatten: nn.Flatten\n",
    "    seq: nn.Sequential\n",
    "\n",
    "    def __init__(\n",
    "        self,\n",
    "        n_max: int,\n",
    "        m: int,\n",
    "        o: int,\n",
    "        hl_size=512, # hidden layer size\n",
    "    ):\n",
    "        super().__init__()\n",
    "        self.n_max = n_max\n",
    "        self.m = m\n",
    "        self.o = o\n",
    "\n",
    "        in_size = n_max*o\n",
    "        out_size = m*o\n",
    "        \n",
    "        self.flatten = nn.Flatten(start_dim=1)\n",
    "        self.seq = nn.Sequential(\n",
    "            nn.Linear(in_size, hl_size),\n",
    "            nn.ReLU(),\n",
    "            nn.Linear(hl_size, hl_size),\n",
    "            nn.ReLU(),\n",
    "            nn.Linear(hl_size, out_size),\n",
    "            nn.ReLU(),\n",
    "        )\n",
    "\n",
    "    # takes an input of size:    [batch_size, n_max, o]\n",
    "    # returns an output of size: [batch_size, m, o]\n",
    "    def forward(self, x):\n",
    "        x = self.flatten(x)\n",
    "        x = nn.functional.normalize(x, dim=1) # normalize in.\n",
    "        x = self.seq(x)\n",
    "        x = nn.functional.normalize(x, dim=1) # normalize out.\n",
    "        return x.view(-1, self.m, self.o) # make it 2-dimensional array.\n",
    "\n",
    "cfg = Config(n_max, m, o, nBeforeBounds, nAfterBounds, variance)\n",
    "scenario_generator = NewScenarioGenerator(cfg)\n",
    "bef, _ = next(NewBatchGenerator(batch_size, scenario_generator))\n",
    "model = NN(cfg.n_max, cfg.m, cfg.o, hl_size=32).to(device)\n",
    "model(bef).size()"
   ]
  },
  {
   "cell_type": "markdown",
   "id": "a8191b65-1896-4114-b358-a4d04929a809",
   "metadata": {},
   "source": [
    "## Training"
   ]
  },
  {
   "cell_type": "code",
   "execution_count": 264,
   "id": "a6fd71f4-aba6-412d-b94a-e1d107ea954c",
   "metadata": {},
   "outputs": [
    {
     "name": "stdout",
     "output_type": "stream",
     "text": [
      "model has 2398 parameters\n",
      "training model...\n",
      "epoch 1/100: loss=0.07731989026069641, elapsed_time=0:00:00.004869\n",
      "epoch 11/100: loss=0.04248279333114624, elapsed_time=0:00:00.045657\n",
      "epoch 21/100: loss=0.022544212639331818, elapsed_time=0:00:00.078439\n",
      "epoch 31/100: loss=0.018874002620577812, elapsed_time=0:00:00.108741\n",
      "epoch 41/100: loss=0.014061198569834232, elapsed_time=0:00:00.137073\n",
      "epoch 51/100: loss=0.010229617357254028, elapsed_time=0:00:00.164773\n",
      "epoch 61/100: loss=0.010207011364400387, elapsed_time=0:00:00.193127\n",
      "epoch 71/100: loss=0.0077340020798146725, elapsed_time=0:00:00.225911\n",
      "epoch 81/100: loss=0.007339867297559977, elapsed_time=0:00:00.259176\n",
      "epoch 91/100: loss=0.005246765911579132, elapsed_time=0:00:00.291135\n",
      "epoch 100/100: loss=0.004814945627003908, elapsed_time=0:00:00.318528\n",
      "b_out:\n",
      " tensor([[0.3408, 0.1310],\n",
      "        [0.3089, 0.1512],\n",
      "        [0.4460, 0.0000],\n",
      "        [0.0000, 0.1152],\n",
      "        [0.0000, 0.2567],\n",
      "        [0.2052, 0.2972],\n",
      "        [0.0000, 0.0000],\n",
      "        [0.0000, 0.0000],\n",
      "        [0.1782, 0.0000],\n",
      "        [0.3180, 0.0000],\n",
      "        [0.3254, 0.0000],\n",
      "        [0.0000, 0.2275],\n",
      "        [0.0000, 0.1352],\n",
      "        [0.0986, 0.0000],\n",
      "        [0.0000, 0.1461]], grad_fn=<SelectBackward0>)\n",
      "a_out:\n",
      " tensor([[0.3425, 0.1343],\n",
      "        [0.3101, 0.1526],\n",
      "        [0.4431, 0.0000],\n",
      "        [0.0000, 0.1143],\n",
      "        [0.0000, 0.2570],\n",
      "        [0.1921, 0.2988],\n",
      "        [0.0000, 0.0000],\n",
      "        [0.0000, 0.0000],\n",
      "        [0.1805, 0.0000],\n",
      "        [0.3224, 0.0000],\n",
      "        [0.3238, 0.0000],\n",
      "        [0.0000, 0.2306],\n",
      "        [0.0000, 0.1355],\n",
      "        [0.1012, 0.0000],\n",
      "        [0.0000, 0.1430]], grad_fn=<SelectBackward0>)\n"
     ]
    },
    {
     "data": {
      "text/plain": [
       "<function matplotlib.pyplot.show(close=None, block=None)>"
      ]
     },
     "execution_count": 264,
     "metadata": {},
     "output_type": "execute_result"
    },
    {
     "data": {
      "image/png": "[encoded data removed]",
      "text/plain": [
       "<Figure size 640x480 with 1 Axes>"
      ]
     },
     "metadata": {},
     "output_type": "display_data"
    }
   ],
   "source": [
    "# Hyper parameters\n",
    "learning_rate = 1e-3\n",
    "epochs = 100\n",
    "batch_size = 32\n",
    "\n",
    "# Experiment parameters\n",
    "# -- n_max: the maximum number of backends.\n",
    "n_max = 5\n",
    "# -- m: the size of the lookup table.\n",
    "m = 15\n",
    "# -- o: the number of axis for the coordinates.\n",
    "o = 2\n",
    "# -- scenario variables\n",
    "nBeforeBounds = (3, n_max)\n",
    "nAfterBounds = (1, n_max)\n",
    "variance = (1.0, 10)\n",
    "# -- hl_size: hidden layer size.\n",
    "hl_size=32\n",
    "\n",
    "cfg = Config(n_max, m, o, nBeforeBounds, nAfterBounds, variance)\n",
    "scgen = NewScenarioGenerator(cfg)\n",
    "batchgen = NewBatchGenerator(batch_size, scgen)\n",
    "\n",
    "model = NN(cfg.n_max, cfg.m, cfg.o, hl_size=32).to(device)\n",
    "optimizer = torch.optim.Adam(model.parameters(), lr=learning_rate)\n",
    "loss_fn = StabilityLoss()\n",
    "\n",
    "total_params = sum(p.numel() for p in model.parameters())\n",
    "print(f\"model has {total_params} parameters\")\n",
    "\n",
    "start_time = time.time()\n",
    "print(\"training model...\")\n",
    "loss_history = []\n",
    "for epoch in range(epochs):\n",
    "    # -- reset optimizer\n",
    "    optimizer.zero_grad()\n",
    "\n",
    "    # -- generate inputs\n",
    "    b_in, a_in = next(batchgen)\n",
    "    # -- run model\n",
    "    b_out = model(b_in)\n",
    "    a_out = model(a_in)\n",
    "    # -- compute loss\n",
    "    loss = loss_fn(b_in, a_in, b_out, a_out)\n",
    "    loss.backward()\n",
    "    # -- step\n",
    "    optimizer.step()\n",
    "\n",
    "    # -- display loss \n",
    "    detached_loss = loss.detach().numpy()\n",
    "    loss_history.append(detached_loss)\n",
    "    if epoch % 10 != 0 and epoch != epochs - 1:\n",
    "        continue\n",
    "    elapsed = datetime.timedelta(seconds=(time.time() - start_time))\n",
    "    print(f\"epoch {epoch+1}/{epochs}: loss={loss}, elapsed_time={elapsed}\")\n",
    "\n",
    "    if epoch == epochs - 1:\n",
    "        print(\"b_out:\\n\", b_out[0])\n",
    "        print(\"a_out:\\n\", a_out[0])\n",
    "\n",
    "    # for name, param in model.named_parameters():\n",
    "    #     if name == \"seq.4.bias\":\n",
    "    #         print(f\"Parameter name: {name}, data_sample: {param.data[0]}\")\n",
    "\n",
    "plt.plot(loss_history, label='loss')\n",
    "plt.legend()\n",
    "plt.show"
   ]
  },
  {
   "cell_type": "code",
   "execution_count": null,
   "id": "6a32702d-6618-4eb7-bb43-86abad4931d0",
   "metadata": {},
   "outputs": [],
   "source": []
  }
 ],
 "metadata": {
  "kernelspec": {
   "display_name": "Python 3 (ipykernel)",
   "language": "python",
   "name": "python3"
  },
  "language_info": {
   "codemirror_mode": {
    "name": "ipython",
    "version": 3
   },
   "file_extension": ".py",
   "mimetype": "text/x-python",
   "name": "python",
   "nbconvert_exporter": "python",
   "pygments_lexer": "ipython3",
   "version": "3.12.9"
  }
 },
 "nbformat": 4,
 "nbformat_minor": 5
}
